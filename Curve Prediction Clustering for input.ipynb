{
 "cells": [
  {
   "cell_type": "code",
   "execution_count": 1,
   "metadata": {},
   "outputs": [],
   "source": [
    "import pandas as pd\n",
    "import matplotlib.pyplot as plt\n",
    "import seaborn as sns\n",
    "import numpy as np\n",
    "import statistics\n",
    "import statsmodels.api as sm\n",
    "from math import sqrt\n",
    "from sklearn.model_selection import train_test_split\n",
    "from sklearn import metrics\n",
    "from sklearn.cluster import AgglomerativeClustering\n",
    "from sklearn.cluster import KMeans\n",
    "\n",
    "plt.rcParams['figure.figsize'] = (16, 12)\n",
    "plt.rcParams['font.size'] = 14\n",
    "plt.style.use(\"fivethirtyeight\")\n",
    "\n",
    "%matplotlib inline"
   ]
  },
  {
   "cell_type": "code",
   "execution_count": 2,
   "metadata": {},
   "outputs": [],
   "source": [
    "#Import cleaned and scaled csv\n",
    "logs_scaled=pd.read_csv('Scaled_Data.csv', index_col=0)\n",
    "\n",
    "logs_scaled=logs_scaled.dropna(subset=['curve1','curve3','Ln_curve3','curve4','curve5','target_log','curve1_diff','curve3_diff','curve4_diff','curve5_diff','Target_diff','curve1_diff_2nd','curve3_diff_2nd','curve4_diff_2nd','curve5_diff_2nd','Target_diff_2nd','Roll20_curve1','Roll20_curve1_diff_2nd'])"
   ]
  },
  {
   "cell_type": "code",
   "execution_count": 3,
   "metadata": {},
   "outputs": [
    {
     "data": {
      "text/plain": [
       "['Observation_Num',\n",
       " 'UWI_PROXY',\n",
       " 'depth',\n",
       " 'curve1',\n",
       " 'curve2',\n",
       " 'curve3',\n",
       " 'curve4',\n",
       " 'curve5',\n",
       " 'target_log',\n",
       " 'curve1_diff',\n",
       " 'curve3_diff',\n",
       " 'curve4_diff',\n",
       " 'curve5_diff',\n",
       " 'Target_diff',\n",
       " 'curve1_diff_2nd',\n",
       " 'curve3_diff_2nd',\n",
       " 'curve4_diff_2nd',\n",
       " 'curve5_diff_2nd',\n",
       " 'Target_diff_2nd',\n",
       " 'Roll_curve1_diff_2nd',\n",
       " 'Roll_curve3_diff_2nd',\n",
       " 'Roll_curve4_diff_2nd',\n",
       " 'Roll_curve5_diff_2nd',\n",
       " 'Roll_Target_diff_2nd',\n",
       " 'Roll20_curve1_diff_2nd',\n",
       " 'Roll20_curve1',\n",
       " 'Ln_curve3',\n",
       " 'target_log_scaled',\n",
       " 'Cluster',\n",
       " 'cluster_0',\n",
       " 'cluster_1',\n",
       " 'cluster_2',\n",
       " 'cluster_3',\n",
       " 'cluster_4',\n",
       " 'cluster_5',\n",
       " 'cluster_6']"
      ]
     },
     "execution_count": 3,
     "metadata": {},
     "output_type": "execute_result"
    }
   ],
   "source": [
    "list(logs_scaled)"
   ]
  },
  {
   "cell_type": "code",
   "execution_count": 4,
   "metadata": {
    "scrolled": true
   },
   "outputs": [
    {
     "data": {
      "text/html": [
       "<div>\n",
       "<style scoped>\n",
       "    .dataframe tbody tr th:only-of-type {\n",
       "        vertical-align: middle;\n",
       "    }\n",
       "\n",
       "    .dataframe tbody tr th {\n",
       "        vertical-align: top;\n",
       "    }\n",
       "\n",
       "    .dataframe thead th {\n",
       "        text-align: right;\n",
       "    }\n",
       "</style>\n",
       "<table border=\"1\" class=\"dataframe\">\n",
       "  <thead>\n",
       "    <tr style=\"text-align: right;\">\n",
       "      <th></th>\n",
       "      <th>curve1</th>\n",
       "      <th>Ln_curve3</th>\n",
       "      <th>curve4</th>\n",
       "      <th>curve5</th>\n",
       "      <th>target_log_scaled</th>\n",
       "    </tr>\n",
       "  </thead>\n",
       "  <tbody>\n",
       "    <tr>\n",
       "      <th>21</th>\n",
       "      <td>-0.464350</td>\n",
       "      <td>-0.493080</td>\n",
       "      <td>1.180719</td>\n",
       "      <td>0.976477</td>\n",
       "      <td>-2.227432</td>\n",
       "    </tr>\n",
       "    <tr>\n",
       "      <th>22</th>\n",
       "      <td>-0.492996</td>\n",
       "      <td>-0.497483</td>\n",
       "      <td>1.209107</td>\n",
       "      <td>0.552577</td>\n",
       "      <td>-0.125151</td>\n",
       "    </tr>\n",
       "    <tr>\n",
       "      <th>23</th>\n",
       "      <td>-0.565122</td>\n",
       "      <td>-0.497483</td>\n",
       "      <td>1.237495</td>\n",
       "      <td>0.418714</td>\n",
       "      <td>0.739719</td>\n",
       "    </tr>\n",
       "    <tr>\n",
       "      <th>24</th>\n",
       "      <td>-0.605425</td>\n",
       "      <td>-0.497885</td>\n",
       "      <td>1.265883</td>\n",
       "      <td>0.507956</td>\n",
       "      <td>0.178871</td>\n",
       "    </tr>\n",
       "    <tr>\n",
       "      <th>25</th>\n",
       "      <td>-0.612107</td>\n",
       "      <td>-0.492681</td>\n",
       "      <td>1.294270</td>\n",
       "      <td>0.597198</td>\n",
       "      <td>-0.932504</td>\n",
       "    </tr>\n",
       "  </tbody>\n",
       "</table>\n",
       "</div>"
      ],
      "text/plain": [
       "      curve1  Ln_curve3    curve4    curve5  target_log_scaled\n",
       "21 -0.464350  -0.493080  1.180719  0.976477          -2.227432\n",
       "22 -0.492996  -0.497483  1.209107  0.552577          -0.125151\n",
       "23 -0.565122  -0.497483  1.237495  0.418714           0.739719\n",
       "24 -0.605425  -0.497885  1.265883  0.507956           0.178871\n",
       "25 -0.612107  -0.492681  1.294270  0.597198          -0.932504"
      ]
     },
     "execution_count": 4,
     "metadata": {},
     "output_type": "execute_result"
    }
   ],
   "source": [
    "feature_cols=['curve1', 'Ln_curve3','curve4','curve5','target_log_scaled']\n",
    "half_scaled=logs_scaled[:100000]\n",
    "X=half_scaled[feature_cols]\n",
    "X.head()"
   ]
  },
  {
   "cell_type": "code",
   "execution_count": 5,
   "metadata": {},
   "outputs": [],
   "source": [
    "# Calculate Silhouette score for k 1 though 20 to find best K for kmeans\n",
    "k_range = list(range(2, 9))\n",
    "k_silhouette = []\n",
    "\n",
    "# Find test accuracy for all values of K between 1 and 100 (inclusive).\n",
    "for k in k_range:\n",
    "    # Instantiate the model with the current K value.\n",
    "    km = KMeans(n_clusters=k, random_state=1)\n",
    "    km.fit(X)\n",
    "    labels = km.labels_\n",
    "    \n",
    "    # Calculate silhouette score.\n",
    "    silhouette_score=metrics.silhouette_score(X, labels, metric='euclidean')\n",
    "    k_silhouette.append(silhouette_score)"
   ]
  },
  {
   "cell_type": "code",
   "execution_count": 8,
   "metadata": {},
   "outputs": [
    {
     "data": {
      "text/plain": [
       "Text(0, 0.5, 'Silhouette score')"
      ]
     },
     "execution_count": 8,
     "metadata": {},
     "output_type": "execute_result"
    },
    {
     "data": {
      "image/png": "[encoded data removed]",
      "text/plain": [
       "<Figure size 432x288 with 1 Axes>"
      ]
     },
     "metadata": {
      "needs_background": "light"
     },
     "output_type": "display_data"
    }
   ],
   "source": [
    "# Create a DataFrame of K, training error, and testing error.\n",
    "column_dict = {'K': k_range, 'K Silhouette': k_silhouette}\n",
    "df = pd.DataFrame(column_dict).set_index('K').sort_index(ascending=False)\n",
    "# Find the minimum testing error and the associated K value.\n",
    "df.sort_values('K Silhouette',ascending=True)\n",
    "df.plot(y='K Silhouette')\n",
    "plt.xlabel('K Number')\n",
    "plt.ylabel('Silhouette score')"
   ]
  },
  {
   "cell_type": "code",
   "execution_count": null,
   "metadata": {},
   "outputs": [],
   "source": [
    "####Can't Use Agglomerative Clustering because my data set in to large for that tool"
   ]
  },
  {
   "cell_type": "code",
   "execution_count": null,
   "metadata": {},
   "outputs": [],
   "source": [
    "# Calculate Silhouette score for k 1 though 15 to find best K for Agg\n",
    "k_range = list(range(2, 15))\n",
    "k_silhouette = []\n",
    "\n",
    "# Find test accuracy for all values of K between 1 and 100 (inclusive).\n",
    "for k in k_range:\n",
    "    # Instantiate the model with the current K value.\n",
    "    agg = AgglomerativeClustering(n_clusters=k)\n",
    "    agg.fit(X)\n",
    "    labels = agg.labels_\n",
    "    \n",
    "    # Calculate silhouette score.\n",
    "    silhouette_score=metrics.silhouette_score(X, labels, metric='euclidean')\n",
    "    k_silhouette.append(silhouee_score)"
   ]
  },
  {
   "cell_type": "code",
   "execution_count": null,
   "metadata": {},
   "outputs": [],
   "source": [
    "# Create a DataFrame of K, training error, and testing error.\n",
    "df2 = pd.DataFrame(column_dict).set_index('K').sort_index(ascending=False)\n",
    "# Find the minimum testing error and the associated K value.\n",
    "df2.sort_values('K Silhouette',ascending=True)\n",
    "df2.plot(y='K Silhouette')"
   ]
  }
 ],
 "metadata": {
  "kernelspec": {
   "display_name": "Python 3",
   "language": "python",
   "name": "python3"
  },
  "language_info": {
   "codemirror_mode": {
    "name": "ipython",
    "version": 3
   },
   "file_extension": ".py",
   "mimetype": "text/x-python",
   "name": "python",
   "nbconvert_exporter": "python",
   "pygments_lexer": "ipython3",
   "version": "3.6.8"
  }
 },
 "nbformat": 4,
 "nbformat_minor": 2
}
